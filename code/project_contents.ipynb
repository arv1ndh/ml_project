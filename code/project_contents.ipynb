{
 "cells": [
  {
   "cell_type": "code",
   "execution_count": 53,
   "metadata": {},
   "outputs": [],
   "source": [
    "import data_loader\n",
    "import pandas as pd\n",
    "import seaborn as sb\n",
    "import numpy as np\n",
    "import matplotlib.pyplot as plt\n",
    "init_train = data_loader.load_train_data(\"../data/adult.data\", valid_rate=1, is_df = \"True\")\n",
    "test = data_loader.load_test_data(\"../data/adult.test\", is_df = \"True\")\n",
    "train = init_train[1]"
   ]
  },
  {
   "cell_type": "markdown",
   "metadata": {},
   "source": [
    "### Replacing all column indices with attribute names\n",
    "\n",
    "We printed the dataframe and we noticed that column values were numbers, so we replaced with the attribute names for better readability."
   ]
  },
  {
   "cell_type": "code",
   "execution_count": 54,
   "metadata": {},
   "outputs": [],
   "source": [
    "col_map = [\"age\", \"workclass\", \"final_weight\", \"education\", \"education_num\", \"marital_status\", \"occupation\", \"relationship\", \"race\", \"sex\", \"cap_gain\", \"cap_loss\", \"hrs_p_week\",\"country\",\"income\"]\n",
    "train.columns = col_map"
   ]
  },
  {
   "cell_type": "markdown",
   "metadata": {},
   "source": [
    "### Missing Values\n",
    "We now noticed that the dataset had missing values and we counted the no of missing values for every column. After finding out the columns that missing values, we removed those corresponding rows. It was approximately around 2000 and did not alter the dataset much."
   ]
  },
  {
   "cell_type": "code",
   "execution_count": 55,
   "metadata": {
    "scrolled": true
   },
   "outputs": [
    {
     "name": "stdout",
     "output_type": "stream",
     "text": [
      "Column:  workclass  Count:  1836\n",
      "Column:  occupation  Count:  1843\n",
      "Column:  country  Count:  583\n"
     ]
    }
   ],
   "source": [
    "for column in train.columns:\n",
    "    su = (train[column] == ' ?').sum()\n",
    "    if su > 0:\n",
    "        print(\"Column: \",column, \" Count: \",su)\n",
    "train = train[((train.country != ' ?') & (train.workclass != ' ?') & (train.occupation != ' ?'))]"
   ]
  },
  {
   "cell_type": "markdown",
   "metadata": {},
   "source": [
    "### Results Remapping\n",
    "\n",
    "Income column is the result column. We have essentially remapped the two output values (<=50K and >50K) to binary values (0 and 1),# and put them in a new numpy array"
   ]
  },
  {
   "cell_type": "code",
   "execution_count": 56,
   "metadata": {},
   "outputs": [
    {
     "name": "stderr",
     "output_type": "stream",
     "text": [
      "C:\\Users\\Karan\\Anaconda3\\lib\\site-packages\\ipykernel_launcher.py:1: SettingWithCopyWarning: \n",
      "A value is trying to be set on a copy of a slice from a DataFrame.\n",
      "Try using .loc[row_indexer,col_indexer] = value instead\n",
      "\n",
      "See the caveats in the documentation: http://pandas.pydata.org/pandas-docs/stable/indexing.html#indexing-view-versus-copy\n",
      "  \"\"\"Entry point for launching an IPython kernel.\n"
     ]
    }
   ],
   "source": [
    "train['income'] = train['income'].map({ \" <=50K\": 0, \" >50K\": 1})\n",
    "#Results = np.copy(train['income'].values)\n",
    "#train.drop(columns=\"income\",inplace=True)"
   ]
  },
  {
   "cell_type": "code",
   "execution_count": 97,
   "metadata": {},
   "outputs": [
    {
     "name": "stdout",
     "output_type": "stream",
     "text": [
      "[' Preschool', ' 1st-4th', ' 5th-6th', ' 7th-8th', ' 9th', ' 10th', ' 11th', ' 12th', ' HS-grad', ' Some-college', ' Assoc-voc', ' Assoc-acdm', ' Bachelors', ' Masters', ' Prof-school', ' Doctorate']\n"
     ]
    }
   ],
   "source": [
    "from collections import OrderedDict\n",
    "edu = train[['education','education_num']]\n",
    "\n",
    "edu_map = edu.drop_duplicates().set_index('education_num').to_dict()['education']\n",
    "\n",
    "\n",
    "sorted_index = []\n",
    "for key, val in sorted(edu_map.items()):\n",
    "    sorted_index.append(val)\n"
   ]
  },
  {
   "cell_type": "markdown",
   "metadata": {},
   "source": [
    "## Data Visualization"
   ]
  },
  {
   "cell_type": "code",
   "execution_count": 138,
   "metadata": {
    "scrolled": false
   },
   "outputs": [
    {
     "name": "stdout",
     "output_type": "stream",
     "text": [
      "income              0       1\n",
      "education                    \n",
      " Preschool       45.0     0.0\n",
      " 1st-4th        145.0     6.0\n",
      " 5th-6th        276.0    12.0\n",
      " 7th-8th        522.0    35.0\n",
      " 9th            430.0    25.0\n",
      " 10th           761.0    59.0\n",
      " 11th           989.0    59.0\n",
      " 12th           348.0    29.0\n",
      " HS-grad       8223.0  1617.0\n",
      " Some-college  5342.0  1336.0\n",
      " Assoc-voc      963.0   344.0\n",
      " Assoc-acdm     752.0   256.0\n",
      " Bachelors     2918.0  2126.0\n",
      " Masters        709.0   918.0\n",
      " Prof-school    136.0   406.0\n",
      " Doctorate       95.0   280.0\n"
     ]
    },
    {
     "name": "stderr",
     "output_type": "stream",
     "text": [
      "C:\\Users\\Karan\\Anaconda3\\lib\\site-packages\\matplotlib\\figure.py:445: UserWarning: Matplotlib is currently using module://ipykernel.pylab.backend_inline, which is a non-GUI backend, so cannot show the figure.\n",
      "  % get_backend())\n"
     ]
    },
    {
     "data": {
      "image/png": "[encoded data removed]",
      "text/plain": [
       "<Figure size 1440x720 with 1 Axes>"
      ]
     },
     "metadata": {
      "needs_background": "light"
     },
     "output_type": "display_data"
    }
   ],
   "source": [
    "#train.groupby('education')['income'].plot()\n",
    "#from pandas import DataFrame\n",
    "temp = train.groupby(['education','income']).count()['age'].unstack('income').fillna(0)\n",
    "#t_df = DataFrame(temp,index=temp.index)\n",
    "#t_df.plot(kind='bar',stacked=True)\n",
    "\n",
    "temp = temp.reindex(sorted_index)\n",
    "#temp.reset_index(inplace = True)\n",
    "\n",
    "print(temp)\n",
    "\n",
    "fig, ax = plt.subplots()\n",
    "ax.set_xlabel('Education')\n",
    "ax.set_ylabel('')\n",
    "temp.plot.bar(ax = ax, figsize = (20,10), width = 0.8)\n",
    "ax.legend([\"<=50K\",\">50K\"])\n",
    "#temp.plot(kind='bar',x='education', y=1, figsize = (14,10), ax = ax,label = '>50K',color = 'red')\n",
    "\n",
    "fig.show()\n",
    "\n",
    "#print(temp.index)\n",
    "#e_df = temp[0:len(temp):2]\n",
    "#print(e_df)\n",
    "#te = temp.to_frame()\n",
    "#print(temp)\n",
    "#print(te)#print(temp['10th',0])\n",
    "#o_df = temp[temp['income'] == 1]\n",
    "#te.plot(x='education',y='income')"
   ]
  },
  {
   "cell_type": "markdown",
   "metadata": {},
   "source": [
    "### Feature Cleaning:\n",
    "\n",
    "We analyzed the dataset and found that the columns education and education number had a one-to-one mapping. Thus We have extracted this one-to-one mapping relationship into a dictionary called edu_map and removed the education column from the dataset."
   ]
  },
  {
   "cell_type": "code",
   "execution_count": null,
   "metadata": {},
   "outputs": [],
   "source": [
    "temp = train[['education','education_num']]\n",
    "edu_map = temp.drop_duplicates().set_index('education_num').to_dict()['education']\n",
    "train.drop(columns=\"education\", inplace=True)"
   ]
  },
  {
   "cell_type": "code",
   "execution_count": null,
   "metadata": {},
   "outputs": [],
   "source": [
    "print(train.columns)"
   ]
  },
  {
   "cell_type": "code",
   "execution_count": null,
   "metadata": {},
   "outputs": [],
   "source": [
    "for column in train.columns:\n",
    "    su = (train[column] == ' ?').sum()\n",
    "    if su > 0:\n",
    "        print(\"Column: \",column, \" Count: \",su)"
   ]
  },
  {
   "cell_type": "code",
   "execution_count": null,
   "metadata": {},
   "outputs": [],
   "source": [
    "#train.drop(columns=['workclass','occupation','country'], )\n",
    "new_train = train[((train.country != ' ?') & (train.workclass != ' ?') & (train.occupation != ' ?'))]\n",
    "for column in new_train.columns:\n",
    "    su = (new_train[column] == ' ?').sum()\n",
    "    if su > 0:\n",
    "        print(\"Column: \",column, \" Sum: \",su)"
   ]
  },
  {
   "cell_type": "code",
   "execution_count": null,
   "metadata": {},
   "outputs": [],
   "source": [
    "print(new_train.corr())"
   ]
  }
 ],
 "metadata": {
  "kernelspec": {
   "display_name": "Python 3",
   "language": "python",
   "name": "python3"
  },
  "language_info": {
   "codemirror_mode": {
    "name": "ipython",
    "version": 3
   },
   "file_extension": ".py",
   "mimetype": "text/x-python",
   "name": "python",
   "nbconvert_exporter": "python",
   "pygments_lexer": "ipython3",
   "version": "3.7.3"
  }
 },
 "nbformat": 4,
 "nbformat_minor": 2
}
