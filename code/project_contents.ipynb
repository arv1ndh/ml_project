{
 "cells": [
  {
   "cell_type": "code",
   "execution_count": 1,
   "metadata": {},
   "outputs": [],
   "source": [
    "import data_loader\n",
    "import pandas as pd\n",
    "import seaborn as sb\n",
    "import numpy as np\n",
    "import matplotlib.pyplot as plt\n",
    "from sklearn.preprocessing import StandardScaler\n",
    "from sklearn.model_selection import KFold\n",
    "from sklearn.metrics import roc_curve, auc\n",
    "from sklearn import tree\n",
    "%matplotlib inline\n"
   ]
  },
  {
   "cell_type": "markdown",
   "metadata": {},
   "source": [
    "# 0. Loading the data"
   ]
  },
  {
   "cell_type": "code",
   "execution_count": 2,
   "metadata": {},
   "outputs": [],
   "source": [
    "init_train = data_loader.load_train_data(\"../data/adult.data\", valid_rate=1, is_df = \"True\")\n",
    "test = data_loader.load_test_data(\"../data/adult.test\", is_df = \"True\")\n",
    "train = init_train[1]"
   ]
  },
  {
   "cell_type": "markdown",
   "metadata": {},
   "source": [
    "# 1. Data preprocessing"
   ]
  },
  {
   "cell_type": "markdown",
   "metadata": {},
   "source": [
    "## Replacing all column indices with attribute names\n",
    "\n",
    "We printed the dataframe and we noticed that column values were numbers, so we replaced with the attribute names for better readability."
   ]
  },
  {
   "cell_type": "code",
   "execution_count": 3,
   "metadata": {},
   "outputs": [],
   "source": [
    "col_map = [\"age\", \"workclass\", \"final_weight\", \"education\", \"education_num\", \"marital_status\", \"occupation\", \"relationship\", \"race\", \"sex\", \"cap_gain\", \"cap_loss\", \"hrs_p_week\",\"country\",\"income\"]\n",
    "train.columns = col_map\n",
    "test.columns = col_map"
   ]
  },
  {
   "cell_type": "markdown",
   "metadata": {},
   "source": [
    "## Printing train and test data"
   ]
  },
  {
   "cell_type": "code",
   "execution_count": 4,
   "metadata": {},
   "outputs": [
    {
     "data": {
      "text/html": [
       "<div>\n",
       "<style scoped>\n",
       "    .dataframe tbody tr th:only-of-type {\n",
       "        vertical-align: middle;\n",
       "    }\n",
       "\n",
       "    .dataframe tbody tr th {\n",
       "        vertical-align: top;\n",
       "    }\n",
       "\n",
       "    .dataframe thead th {\n",
       "        text-align: right;\n",
       "    }\n",
       "</style>\n",
       "<table border=\"1\" class=\"dataframe\">\n",
       "  <thead>\n",
       "    <tr style=\"text-align: right;\">\n",
       "      <th></th>\n",
       "      <th>age</th>\n",
       "      <th>workclass</th>\n",
       "      <th>final_weight</th>\n",
       "      <th>education</th>\n",
       "      <th>education_num</th>\n",
       "      <th>marital_status</th>\n",
       "      <th>occupation</th>\n",
       "      <th>relationship</th>\n",
       "      <th>race</th>\n",
       "      <th>sex</th>\n",
       "      <th>cap_gain</th>\n",
       "      <th>cap_loss</th>\n",
       "      <th>hrs_p_week</th>\n",
       "      <th>country</th>\n",
       "      <th>income</th>\n",
       "    </tr>\n",
       "  </thead>\n",
       "  <tbody>\n",
       "    <tr>\n",
       "      <th>24337</th>\n",
       "      <td>62</td>\n",
       "      <td>Local-gov</td>\n",
       "      <td>68268</td>\n",
       "      <td>HS-grad</td>\n",
       "      <td>9</td>\n",
       "      <td>Married-civ-spouse</td>\n",
       "      <td>Transport-moving</td>\n",
       "      <td>Husband</td>\n",
       "      <td>White</td>\n",
       "      <td>Male</td>\n",
       "      <td>0</td>\n",
       "      <td>0</td>\n",
       "      <td>40</td>\n",
       "      <td>United-States</td>\n",
       "      <td>&lt;=50K</td>\n",
       "    </tr>\n",
       "    <tr>\n",
       "      <th>17049</th>\n",
       "      <td>50</td>\n",
       "      <td>Private</td>\n",
       "      <td>215990</td>\n",
       "      <td>HS-grad</td>\n",
       "      <td>9</td>\n",
       "      <td>Married-civ-spouse</td>\n",
       "      <td>Craft-repair</td>\n",
       "      <td>Husband</td>\n",
       "      <td>White</td>\n",
       "      <td>Male</td>\n",
       "      <td>0</td>\n",
       "      <td>0</td>\n",
       "      <td>40</td>\n",
       "      <td>United-States</td>\n",
       "      <td>&gt;50K</td>\n",
       "    </tr>\n",
       "    <tr>\n",
       "      <th>21016</th>\n",
       "      <td>36</td>\n",
       "      <td>Private</td>\n",
       "      <td>185405</td>\n",
       "      <td>HS-grad</td>\n",
       "      <td>9</td>\n",
       "      <td>Married-civ-spouse</td>\n",
       "      <td>Adm-clerical</td>\n",
       "      <td>Husband</td>\n",
       "      <td>White</td>\n",
       "      <td>Male</td>\n",
       "      <td>0</td>\n",
       "      <td>0</td>\n",
       "      <td>50</td>\n",
       "      <td>United-States</td>\n",
       "      <td>&gt;50K</td>\n",
       "    </tr>\n",
       "    <tr>\n",
       "      <th>2790</th>\n",
       "      <td>64</td>\n",
       "      <td>Private</td>\n",
       "      <td>258006</td>\n",
       "      <td>Some-college</td>\n",
       "      <td>10</td>\n",
       "      <td>Widowed</td>\n",
       "      <td>Adm-clerical</td>\n",
       "      <td>Not-in-family</td>\n",
       "      <td>White</td>\n",
       "      <td>Female</td>\n",
       "      <td>0</td>\n",
       "      <td>0</td>\n",
       "      <td>40</td>\n",
       "      <td>Cuba</td>\n",
       "      <td>&lt;=50K</td>\n",
       "    </tr>\n",
       "    <tr>\n",
       "      <th>13511</th>\n",
       "      <td>28</td>\n",
       "      <td>Self-emp-not-inc</td>\n",
       "      <td>39388</td>\n",
       "      <td>Assoc-voc</td>\n",
       "      <td>11</td>\n",
       "      <td>Married-civ-spouse</td>\n",
       "      <td>Farming-fishing</td>\n",
       "      <td>Husband</td>\n",
       "      <td>White</td>\n",
       "      <td>Male</td>\n",
       "      <td>0</td>\n",
       "      <td>0</td>\n",
       "      <td>60</td>\n",
       "      <td>United-States</td>\n",
       "      <td>&lt;=50K</td>\n",
       "    </tr>\n",
       "  </tbody>\n",
       "</table>\n",
       "</div>"
      ],
      "text/plain": [
       "       age          workclass  final_weight      education  education_num  \\\n",
       "24337   62          Local-gov         68268        HS-grad              9   \n",
       "17049   50            Private        215990        HS-grad              9   \n",
       "21016   36            Private        185405        HS-grad              9   \n",
       "2790    64            Private        258006   Some-college             10   \n",
       "13511   28   Self-emp-not-inc         39388      Assoc-voc             11   \n",
       "\n",
       "            marital_status         occupation    relationship    race  \\\n",
       "24337   Married-civ-spouse   Transport-moving         Husband   White   \n",
       "17049   Married-civ-spouse       Craft-repair         Husband   White   \n",
       "21016   Married-civ-spouse       Adm-clerical         Husband   White   \n",
       "2790               Widowed       Adm-clerical   Not-in-family   White   \n",
       "13511   Married-civ-spouse    Farming-fishing         Husband   White   \n",
       "\n",
       "           sex  cap_gain  cap_loss  hrs_p_week         country  income  \n",
       "24337     Male         0         0          40   United-States   <=50K  \n",
       "17049     Male         0         0          40   United-States    >50K  \n",
       "21016     Male         0         0          50   United-States    >50K  \n",
       "2790    Female         0         0          40            Cuba   <=50K  \n",
       "13511     Male         0         0          60   United-States   <=50K  "
      ]
     },
     "execution_count": 4,
     "metadata": {},
     "output_type": "execute_result"
    }
   ],
   "source": [
    "train.head()"
   ]
  },
  {
   "cell_type": "code",
   "execution_count": 5,
   "metadata": {},
   "outputs": [
    {
     "data": {
      "text/html": [
       "<div>\n",
       "<style scoped>\n",
       "    .dataframe tbody tr th:only-of-type {\n",
       "        vertical-align: middle;\n",
       "    }\n",
       "\n",
       "    .dataframe tbody tr th {\n",
       "        vertical-align: top;\n",
       "    }\n",
       "\n",
       "    .dataframe thead th {\n",
       "        text-align: right;\n",
       "    }\n",
       "</style>\n",
       "<table border=\"1\" class=\"dataframe\">\n",
       "  <thead>\n",
       "    <tr style=\"text-align: right;\">\n",
       "      <th></th>\n",
       "      <th>age</th>\n",
       "      <th>workclass</th>\n",
       "      <th>final_weight</th>\n",
       "      <th>education</th>\n",
       "      <th>education_num</th>\n",
       "      <th>marital_status</th>\n",
       "      <th>occupation</th>\n",
       "      <th>relationship</th>\n",
       "      <th>race</th>\n",
       "      <th>sex</th>\n",
       "      <th>cap_gain</th>\n",
       "      <th>cap_loss</th>\n",
       "      <th>hrs_p_week</th>\n",
       "      <th>country</th>\n",
       "      <th>income</th>\n",
       "    </tr>\n",
       "  </thead>\n",
       "  <tbody>\n",
       "    <tr>\n",
       "      <th>0</th>\n",
       "      <td>25</td>\n",
       "      <td>Private</td>\n",
       "      <td>226802</td>\n",
       "      <td>11th</td>\n",
       "      <td>7</td>\n",
       "      <td>Never-married</td>\n",
       "      <td>Machine-op-inspct</td>\n",
       "      <td>Own-child</td>\n",
       "      <td>Black</td>\n",
       "      <td>Male</td>\n",
       "      <td>0</td>\n",
       "      <td>0</td>\n",
       "      <td>40</td>\n",
       "      <td>United-States</td>\n",
       "      <td>&lt;=50K.</td>\n",
       "    </tr>\n",
       "    <tr>\n",
       "      <th>1</th>\n",
       "      <td>38</td>\n",
       "      <td>Private</td>\n",
       "      <td>89814</td>\n",
       "      <td>HS-grad</td>\n",
       "      <td>9</td>\n",
       "      <td>Married-civ-spouse</td>\n",
       "      <td>Farming-fishing</td>\n",
       "      <td>Husband</td>\n",
       "      <td>White</td>\n",
       "      <td>Male</td>\n",
       "      <td>0</td>\n",
       "      <td>0</td>\n",
       "      <td>50</td>\n",
       "      <td>United-States</td>\n",
       "      <td>&lt;=50K.</td>\n",
       "    </tr>\n",
       "    <tr>\n",
       "      <th>2</th>\n",
       "      <td>28</td>\n",
       "      <td>Local-gov</td>\n",
       "      <td>336951</td>\n",
       "      <td>Assoc-acdm</td>\n",
       "      <td>12</td>\n",
       "      <td>Married-civ-spouse</td>\n",
       "      <td>Protective-serv</td>\n",
       "      <td>Husband</td>\n",
       "      <td>White</td>\n",
       "      <td>Male</td>\n",
       "      <td>0</td>\n",
       "      <td>0</td>\n",
       "      <td>40</td>\n",
       "      <td>United-States</td>\n",
       "      <td>&gt;50K.</td>\n",
       "    </tr>\n",
       "    <tr>\n",
       "      <th>3</th>\n",
       "      <td>44</td>\n",
       "      <td>Private</td>\n",
       "      <td>160323</td>\n",
       "      <td>Some-college</td>\n",
       "      <td>10</td>\n",
       "      <td>Married-civ-spouse</td>\n",
       "      <td>Machine-op-inspct</td>\n",
       "      <td>Husband</td>\n",
       "      <td>Black</td>\n",
       "      <td>Male</td>\n",
       "      <td>7688</td>\n",
       "      <td>0</td>\n",
       "      <td>40</td>\n",
       "      <td>United-States</td>\n",
       "      <td>&gt;50K.</td>\n",
       "    </tr>\n",
       "    <tr>\n",
       "      <th>4</th>\n",
       "      <td>18</td>\n",
       "      <td>?</td>\n",
       "      <td>103497</td>\n",
       "      <td>Some-college</td>\n",
       "      <td>10</td>\n",
       "      <td>Never-married</td>\n",
       "      <td>?</td>\n",
       "      <td>Own-child</td>\n",
       "      <td>White</td>\n",
       "      <td>Female</td>\n",
       "      <td>0</td>\n",
       "      <td>0</td>\n",
       "      <td>30</td>\n",
       "      <td>United-States</td>\n",
       "      <td>&lt;=50K.</td>\n",
       "    </tr>\n",
       "  </tbody>\n",
       "</table>\n",
       "</div>"
      ],
      "text/plain": [
       "   age   workclass  final_weight      education  education_num  \\\n",
       "0   25     Private        226802           11th              7   \n",
       "1   38     Private         89814        HS-grad              9   \n",
       "2   28   Local-gov        336951     Assoc-acdm             12   \n",
       "3   44     Private        160323   Some-college             10   \n",
       "4   18           ?        103497   Some-college             10   \n",
       "\n",
       "        marital_status          occupation relationship    race      sex  \\\n",
       "0        Never-married   Machine-op-inspct    Own-child   Black     Male   \n",
       "1   Married-civ-spouse     Farming-fishing      Husband   White     Male   \n",
       "2   Married-civ-spouse     Protective-serv      Husband   White     Male   \n",
       "3   Married-civ-spouse   Machine-op-inspct      Husband   Black     Male   \n",
       "4        Never-married                   ?    Own-child   White   Female   \n",
       "\n",
       "   cap_gain  cap_loss  hrs_p_week         country   income  \n",
       "0         0         0          40   United-States   <=50K.  \n",
       "1         0         0          50   United-States   <=50K.  \n",
       "2         0         0          40   United-States    >50K.  \n",
       "3      7688         0          40   United-States    >50K.  \n",
       "4         0         0          30   United-States   <=50K.  "
      ]
     },
     "execution_count": 5,
     "metadata": {},
     "output_type": "execute_result"
    }
   ],
   "source": [
    "test.head()"
   ]
  },
  {
   "cell_type": "markdown",
   "metadata": {},
   "source": [
    "It seems that in test data, the income class has a '.' at the end. Remove it in data cleaning phase"
   ]
  },
  {
   "cell_type": "markdown",
   "metadata": {},
   "source": [
    "## Columns in the data"
   ]
  },
  {
   "cell_type": "code",
   "execution_count": 6,
   "metadata": {},
   "outputs": [
    {
     "name": "stdout",
     "output_type": "stream",
     "text": [
      "<class 'pandas.core.frame.DataFrame'>\n",
      "Int64Index: 32561 entries, 24337 to 10137\n",
      "Data columns (total 15 columns):\n",
      "age               32561 non-null int64\n",
      "workclass         32561 non-null object\n",
      "final_weight      32561 non-null int64\n",
      "education         32561 non-null object\n",
      "education_num     32561 non-null int64\n",
      "marital_status    32561 non-null object\n",
      "occupation        32561 non-null object\n",
      "relationship      32561 non-null object\n",
      "race              32561 non-null object\n",
      "sex               32561 non-null object\n",
      "cap_gain          32561 non-null int64\n",
      "cap_loss          32561 non-null int64\n",
      "hrs_p_week        32561 non-null int64\n",
      "country           32561 non-null object\n",
      "income            32561 non-null object\n",
      "dtypes: int64(6), object(9)\n",
      "memory usage: 4.0+ MB\n"
     ]
    }
   ],
   "source": [
    "train.info()"
   ]
  },
  {
   "cell_type": "markdown",
   "metadata": {},
   "source": [
    "## Converting other columns to categorical for both train and test data"
   ]
  },
  {
   "cell_type": "code",
   "execution_count": 7,
   "metadata": {},
   "outputs": [],
   "source": [
    "train = pd.concat([\n",
    "        train.select_dtypes(['object']).apply(pd.Series.astype, dtype = 'category'),\n",
    "        train.select_dtypes([], ['object'])\n",
    "        ], axis = 1).reindex(train.columns, axis = 1)\n",
    "\n",
    "test = pd.concat([\n",
    "        test.select_dtypes(['object']).apply(pd.Series.astype, dtype = 'category'),\n",
    "        test.select_dtypes([],['object'])\n",
    "        ], axis = 1).reindex(test.columns, axis = 1)"
   ]
  },
  {
   "cell_type": "code",
   "execution_count": 8,
   "metadata": {},
   "outputs": [
    {
     "name": "stdout",
     "output_type": "stream",
     "text": [
      "<class 'pandas.core.frame.DataFrame'>\n",
      "Int64Index: 32561 entries, 24337 to 10137\n",
      "Data columns (total 15 columns):\n",
      "age               32561 non-null int64\n",
      "workclass         32561 non-null category\n",
      "final_weight      32561 non-null int64\n",
      "education         32561 non-null category\n",
      "education_num     32561 non-null int64\n",
      "marital_status    32561 non-null category\n",
      "occupation        32561 non-null category\n",
      "relationship      32561 non-null category\n",
      "race              32561 non-null category\n",
      "sex               32561 non-null category\n",
      "cap_gain          32561 non-null int64\n",
      "cap_loss          32561 non-null int64\n",
      "hrs_p_week        32561 non-null int64\n",
      "country           32561 non-null category\n",
      "income            32561 non-null category\n",
      "dtypes: category(9), int64(6)\n",
      "memory usage: 2.0 MB\n"
     ]
    }
   ],
   "source": [
    "train.info()"
   ]
  },
  {
   "cell_type": "code",
   "execution_count": 9,
   "metadata": {},
   "outputs": [
    {
     "name": "stdout",
     "output_type": "stream",
     "text": [
      "<class 'pandas.core.frame.DataFrame'>\n",
      "RangeIndex: 16281 entries, 0 to 16280\n",
      "Data columns (total 15 columns):\n",
      "age               16281 non-null int64\n",
      "workclass         16281 non-null category\n",
      "final_weight      16281 non-null int64\n",
      "education         16281 non-null category\n",
      "education_num     16281 non-null int64\n",
      "marital_status    16281 non-null category\n",
      "occupation        16281 non-null category\n",
      "relationship      16281 non-null category\n",
      "race              16281 non-null category\n",
      "sex               16281 non-null category\n",
      "cap_gain          16281 non-null int64\n",
      "cap_loss          16281 non-null int64\n",
      "hrs_p_week        16281 non-null int64\n",
      "country           16281 non-null category\n",
      "income            16281 non-null category\n",
      "dtypes: category(9), int64(6)\n",
      "memory usage: 910.7 KB\n"
     ]
    }
   ],
   "source": [
    "test.info()"
   ]
  },
  {
   "cell_type": "markdown",
   "metadata": {},
   "source": [
    "## Summary of numerical data"
   ]
  },
  {
   "cell_type": "markdown",
   "metadata": {},
   "source": [
    "### Training data"
   ]
  },
  {
   "cell_type": "code",
   "execution_count": 10,
   "metadata": {},
   "outputs": [
    {
     "data": {
      "text/html": [
       "<div>\n",
       "<style scoped>\n",
       "    .dataframe tbody tr th:only-of-type {\n",
       "        vertical-align: middle;\n",
       "    }\n",
       "\n",
       "    .dataframe tbody tr th {\n",
       "        vertical-align: top;\n",
       "    }\n",
       "\n",
       "    .dataframe thead th {\n",
       "        text-align: right;\n",
       "    }\n",
       "</style>\n",
       "<table border=\"1\" class=\"dataframe\">\n",
       "  <thead>\n",
       "    <tr style=\"text-align: right;\">\n",
       "      <th></th>\n",
       "      <th>age</th>\n",
       "      <th>final_weight</th>\n",
       "      <th>education_num</th>\n",
       "      <th>cap_gain</th>\n",
       "      <th>cap_loss</th>\n",
       "      <th>hrs_p_week</th>\n",
       "    </tr>\n",
       "  </thead>\n",
       "  <tbody>\n",
       "    <tr>\n",
       "      <th>count</th>\n",
       "      <td>32561.000000</td>\n",
       "      <td>3.256100e+04</td>\n",
       "      <td>32561.000000</td>\n",
       "      <td>32561.000000</td>\n",
       "      <td>32561.000000</td>\n",
       "      <td>32561.000000</td>\n",
       "    </tr>\n",
       "    <tr>\n",
       "      <th>mean</th>\n",
       "      <td>38.581647</td>\n",
       "      <td>1.897784e+05</td>\n",
       "      <td>10.080679</td>\n",
       "      <td>1077.648844</td>\n",
       "      <td>87.303830</td>\n",
       "      <td>40.437456</td>\n",
       "    </tr>\n",
       "    <tr>\n",
       "      <th>std</th>\n",
       "      <td>13.640433</td>\n",
       "      <td>1.055500e+05</td>\n",
       "      <td>2.572720</td>\n",
       "      <td>7385.292085</td>\n",
       "      <td>402.960219</td>\n",
       "      <td>12.347429</td>\n",
       "    </tr>\n",
       "    <tr>\n",
       "      <th>min</th>\n",
       "      <td>17.000000</td>\n",
       "      <td>1.228500e+04</td>\n",
       "      <td>1.000000</td>\n",
       "      <td>0.000000</td>\n",
       "      <td>0.000000</td>\n",
       "      <td>1.000000</td>\n",
       "    </tr>\n",
       "    <tr>\n",
       "      <th>25%</th>\n",
       "      <td>28.000000</td>\n",
       "      <td>1.178270e+05</td>\n",
       "      <td>9.000000</td>\n",
       "      <td>0.000000</td>\n",
       "      <td>0.000000</td>\n",
       "      <td>40.000000</td>\n",
       "    </tr>\n",
       "    <tr>\n",
       "      <th>50%</th>\n",
       "      <td>37.000000</td>\n",
       "      <td>1.783560e+05</td>\n",
       "      <td>10.000000</td>\n",
       "      <td>0.000000</td>\n",
       "      <td>0.000000</td>\n",
       "      <td>40.000000</td>\n",
       "    </tr>\n",
       "    <tr>\n",
       "      <th>75%</th>\n",
       "      <td>48.000000</td>\n",
       "      <td>2.370510e+05</td>\n",
       "      <td>12.000000</td>\n",
       "      <td>0.000000</td>\n",
       "      <td>0.000000</td>\n",
       "      <td>45.000000</td>\n",
       "    </tr>\n",
       "    <tr>\n",
       "      <th>max</th>\n",
       "      <td>90.000000</td>\n",
       "      <td>1.484705e+06</td>\n",
       "      <td>16.000000</td>\n",
       "      <td>99999.000000</td>\n",
       "      <td>4356.000000</td>\n",
       "      <td>99.000000</td>\n",
       "    </tr>\n",
       "  </tbody>\n",
       "</table>\n",
       "</div>"
      ],
      "text/plain": [
       "                age  final_weight  education_num      cap_gain      cap_loss  \\\n",
       "count  32561.000000  3.256100e+04   32561.000000  32561.000000  32561.000000   \n",
       "mean      38.581647  1.897784e+05      10.080679   1077.648844     87.303830   \n",
       "std       13.640433  1.055500e+05       2.572720   7385.292085    402.960219   \n",
       "min       17.000000  1.228500e+04       1.000000      0.000000      0.000000   \n",
       "25%       28.000000  1.178270e+05       9.000000      0.000000      0.000000   \n",
       "50%       37.000000  1.783560e+05      10.000000      0.000000      0.000000   \n",
       "75%       48.000000  2.370510e+05      12.000000      0.000000      0.000000   \n",
       "max       90.000000  1.484705e+06      16.000000  99999.000000   4356.000000   \n",
       "\n",
       "         hrs_p_week  \n",
       "count  32561.000000  \n",
       "mean      40.437456  \n",
       "std       12.347429  \n",
       "min        1.000000  \n",
       "25%       40.000000  \n",
       "50%       40.000000  \n",
       "75%       45.000000  \n",
       "max       99.000000  "
      ]
     },
     "execution_count": 10,
     "metadata": {},
     "output_type": "execute_result"
    }
   ],
   "source": [
    "train.describe()"
   ]
  },
  {
   "cell_type": "markdown",
   "metadata": {},
   "source": [
    "### Test data"
   ]
  },
  {
   "cell_type": "code",
   "execution_count": 11,
   "metadata": {},
   "outputs": [
    {
     "data": {
      "text/html": [
       "<div>\n",
       "<style scoped>\n",
       "    .dataframe tbody tr th:only-of-type {\n",
       "        vertical-align: middle;\n",
       "    }\n",
       "\n",
       "    .dataframe tbody tr th {\n",
       "        vertical-align: top;\n",
       "    }\n",
       "\n",
       "    .dataframe thead th {\n",
       "        text-align: right;\n",
       "    }\n",
       "</style>\n",
       "<table border=\"1\" class=\"dataframe\">\n",
       "  <thead>\n",
       "    <tr style=\"text-align: right;\">\n",
       "      <th></th>\n",
       "      <th>age</th>\n",
       "      <th>final_weight</th>\n",
       "      <th>education_num</th>\n",
       "      <th>cap_gain</th>\n",
       "      <th>cap_loss</th>\n",
       "      <th>hrs_p_week</th>\n",
       "    </tr>\n",
       "  </thead>\n",
       "  <tbody>\n",
       "    <tr>\n",
       "      <th>count</th>\n",
       "      <td>16281.000000</td>\n",
       "      <td>1.628100e+04</td>\n",
       "      <td>16281.000000</td>\n",
       "      <td>16281.000000</td>\n",
       "      <td>16281.000000</td>\n",
       "      <td>16281.000000</td>\n",
       "    </tr>\n",
       "    <tr>\n",
       "      <th>mean</th>\n",
       "      <td>38.767459</td>\n",
       "      <td>1.894357e+05</td>\n",
       "      <td>10.072907</td>\n",
       "      <td>1081.905104</td>\n",
       "      <td>87.899269</td>\n",
       "      <td>40.392236</td>\n",
       "    </tr>\n",
       "    <tr>\n",
       "      <th>std</th>\n",
       "      <td>13.849187</td>\n",
       "      <td>1.057149e+05</td>\n",
       "      <td>2.567545</td>\n",
       "      <td>7583.935968</td>\n",
       "      <td>403.105286</td>\n",
       "      <td>12.479332</td>\n",
       "    </tr>\n",
       "    <tr>\n",
       "      <th>min</th>\n",
       "      <td>17.000000</td>\n",
       "      <td>1.349200e+04</td>\n",
       "      <td>1.000000</td>\n",
       "      <td>0.000000</td>\n",
       "      <td>0.000000</td>\n",
       "      <td>1.000000</td>\n",
       "    </tr>\n",
       "    <tr>\n",
       "      <th>25%</th>\n",
       "      <td>28.000000</td>\n",
       "      <td>1.167360e+05</td>\n",
       "      <td>9.000000</td>\n",
       "      <td>0.000000</td>\n",
       "      <td>0.000000</td>\n",
       "      <td>40.000000</td>\n",
       "    </tr>\n",
       "    <tr>\n",
       "      <th>50%</th>\n",
       "      <td>37.000000</td>\n",
       "      <td>1.778310e+05</td>\n",
       "      <td>10.000000</td>\n",
       "      <td>0.000000</td>\n",
       "      <td>0.000000</td>\n",
       "      <td>40.000000</td>\n",
       "    </tr>\n",
       "    <tr>\n",
       "      <th>75%</th>\n",
       "      <td>48.000000</td>\n",
       "      <td>2.383840e+05</td>\n",
       "      <td>12.000000</td>\n",
       "      <td>0.000000</td>\n",
       "      <td>0.000000</td>\n",
       "      <td>45.000000</td>\n",
       "    </tr>\n",
       "    <tr>\n",
       "      <th>max</th>\n",
       "      <td>90.000000</td>\n",
       "      <td>1.490400e+06</td>\n",
       "      <td>16.000000</td>\n",
       "      <td>99999.000000</td>\n",
       "      <td>3770.000000</td>\n",
       "      <td>99.000000</td>\n",
       "    </tr>\n",
       "  </tbody>\n",
       "</table>\n",
       "</div>"
      ],
      "text/plain": [
       "                age  final_weight  education_num      cap_gain      cap_loss  \\\n",
       "count  16281.000000  1.628100e+04   16281.000000  16281.000000  16281.000000   \n",
       "mean      38.767459  1.894357e+05      10.072907   1081.905104     87.899269   \n",
       "std       13.849187  1.057149e+05       2.567545   7583.935968    403.105286   \n",
       "min       17.000000  1.349200e+04       1.000000      0.000000      0.000000   \n",
       "25%       28.000000  1.167360e+05       9.000000      0.000000      0.000000   \n",
       "50%       37.000000  1.778310e+05      10.000000      0.000000      0.000000   \n",
       "75%       48.000000  2.383840e+05      12.000000      0.000000      0.000000   \n",
       "max       90.000000  1.490400e+06      16.000000  99999.000000   3770.000000   \n",
       "\n",
       "         hrs_p_week  \n",
       "count  16281.000000  \n",
       "mean      40.392236  \n",
       "std       12.479332  \n",
       "min        1.000000  \n",
       "25%       40.000000  \n",
       "50%       40.000000  \n",
       "75%       45.000000  \n",
       "max       99.000000  "
      ]
     },
     "execution_count": 11,
     "metadata": {},
     "output_type": "execute_result"
    }
   ],
   "source": [
    "test.describe()"
   ]
  },
  {
   "cell_type": "markdown",
   "metadata": {},
   "source": [
    "## Checking if numerical columns are correlated"
   ]
  },
  {
   "cell_type": "code",
   "execution_count": 12,
   "metadata": {},
   "outputs": [
    {
     "name": "stdout",
     "output_type": "stream",
     "text": [
      "                    age  final_weight  education_num  cap_gain  cap_loss  \\\n",
      "age            1.000000     -0.076646       0.036527  0.077674  0.057775   \n",
      "final_weight  -0.076646      1.000000      -0.043195  0.000432 -0.010252   \n",
      "education_num  0.036527     -0.043195       1.000000  0.122630  0.079923   \n",
      "cap_gain       0.077674      0.000432       0.122630  1.000000 -0.031615   \n",
      "cap_loss       0.057775     -0.010252       0.079923 -0.031615  1.000000   \n",
      "hrs_p_week     0.068756     -0.018768       0.148123  0.078409  0.054256   \n",
      "\n",
      "               hrs_p_week  \n",
      "age              0.068756  \n",
      "final_weight    -0.018768  \n",
      "education_num    0.148123  \n",
      "cap_gain         0.078409  \n",
      "cap_loss         0.054256  \n",
      "hrs_p_week       1.000000  \n"
     ]
    }
   ],
   "source": [
    "print(train.corr())"
   ]
  },
  {
   "cell_type": "markdown",
   "metadata": {},
   "source": [
    "As none of the numerical columns in the training data are correlated, we cannot drop any of them."
   ]
  },
  {
   "cell_type": "markdown",
   "metadata": {},
   "source": [
    "# 2. Data cleaning"
   ]
  },
  {
   "cell_type": "markdown",
   "metadata": {},
   "source": [
    "## Removing the . at the end of income class in test data"
   ]
  },
  {
   "cell_type": "code",
   "execution_count": 13,
   "metadata": {},
   "outputs": [],
   "source": [
    "test[\"income\"] = test[\"income\"].map(lambda x:x.rstrip('.'))"
   ]
  },
  {
   "cell_type": "code",
   "execution_count": 14,
   "metadata": {},
   "outputs": [
    {
     "data": {
      "text/html": [
       "<div>\n",
       "<style scoped>\n",
       "    .dataframe tbody tr th:only-of-type {\n",
       "        vertical-align: middle;\n",
       "    }\n",
       "\n",
       "    .dataframe tbody tr th {\n",
       "        vertical-align: top;\n",
       "    }\n",
       "\n",
       "    .dataframe thead th {\n",
       "        text-align: right;\n",
       "    }\n",
       "</style>\n",
       "<table border=\"1\" class=\"dataframe\">\n",
       "  <thead>\n",
       "    <tr style=\"text-align: right;\">\n",
       "      <th></th>\n",
       "      <th>age</th>\n",
       "      <th>workclass</th>\n",
       "      <th>final_weight</th>\n",
       "      <th>education</th>\n",
       "      <th>education_num</th>\n",
       "      <th>marital_status</th>\n",
       "      <th>occupation</th>\n",
       "      <th>relationship</th>\n",
       "      <th>race</th>\n",
       "      <th>sex</th>\n",
       "      <th>cap_gain</th>\n",
       "      <th>cap_loss</th>\n",
       "      <th>hrs_p_week</th>\n",
       "      <th>country</th>\n",
       "      <th>income</th>\n",
       "    </tr>\n",
       "  </thead>\n",
       "  <tbody>\n",
       "    <tr>\n",
       "      <th>0</th>\n",
       "      <td>25</td>\n",
       "      <td>Private</td>\n",
       "      <td>226802</td>\n",
       "      <td>11th</td>\n",
       "      <td>7</td>\n",
       "      <td>Never-married</td>\n",
       "      <td>Machine-op-inspct</td>\n",
       "      <td>Own-child</td>\n",
       "      <td>Black</td>\n",
       "      <td>Male</td>\n",
       "      <td>0</td>\n",
       "      <td>0</td>\n",
       "      <td>40</td>\n",
       "      <td>United-States</td>\n",
       "      <td>&lt;=50K</td>\n",
       "    </tr>\n",
       "    <tr>\n",
       "      <th>1</th>\n",
       "      <td>38</td>\n",
       "      <td>Private</td>\n",
       "      <td>89814</td>\n",
       "      <td>HS-grad</td>\n",
       "      <td>9</td>\n",
       "      <td>Married-civ-spouse</td>\n",
       "      <td>Farming-fishing</td>\n",
       "      <td>Husband</td>\n",
       "      <td>White</td>\n",
       "      <td>Male</td>\n",
       "      <td>0</td>\n",
       "      <td>0</td>\n",
       "      <td>50</td>\n",
       "      <td>United-States</td>\n",
       "      <td>&lt;=50K</td>\n",
       "    </tr>\n",
       "    <tr>\n",
       "      <th>2</th>\n",
       "      <td>28</td>\n",
       "      <td>Local-gov</td>\n",
       "      <td>336951</td>\n",
       "      <td>Assoc-acdm</td>\n",
       "      <td>12</td>\n",
       "      <td>Married-civ-spouse</td>\n",
       "      <td>Protective-serv</td>\n",
       "      <td>Husband</td>\n",
       "      <td>White</td>\n",
       "      <td>Male</td>\n",
       "      <td>0</td>\n",
       "      <td>0</td>\n",
       "      <td>40</td>\n",
       "      <td>United-States</td>\n",
       "      <td>&gt;50K</td>\n",
       "    </tr>\n",
       "    <tr>\n",
       "      <th>3</th>\n",
       "      <td>44</td>\n",
       "      <td>Private</td>\n",
       "      <td>160323</td>\n",
       "      <td>Some-college</td>\n",
       "      <td>10</td>\n",
       "      <td>Married-civ-spouse</td>\n",
       "      <td>Machine-op-inspct</td>\n",
       "      <td>Husband</td>\n",
       "      <td>Black</td>\n",
       "      <td>Male</td>\n",
       "      <td>7688</td>\n",
       "      <td>0</td>\n",
       "      <td>40</td>\n",
       "      <td>United-States</td>\n",
       "      <td>&gt;50K</td>\n",
       "    </tr>\n",
       "    <tr>\n",
       "      <th>4</th>\n",
       "      <td>18</td>\n",
       "      <td>?</td>\n",
       "      <td>103497</td>\n",
       "      <td>Some-college</td>\n",
       "      <td>10</td>\n",
       "      <td>Never-married</td>\n",
       "      <td>?</td>\n",
       "      <td>Own-child</td>\n",
       "      <td>White</td>\n",
       "      <td>Female</td>\n",
       "      <td>0</td>\n",
       "      <td>0</td>\n",
       "      <td>30</td>\n",
       "      <td>United-States</td>\n",
       "      <td>&lt;=50K</td>\n",
       "    </tr>\n",
       "  </tbody>\n",
       "</table>\n",
       "</div>"
      ],
      "text/plain": [
       "   age   workclass  final_weight      education  education_num  \\\n",
       "0   25     Private        226802           11th              7   \n",
       "1   38     Private         89814        HS-grad              9   \n",
       "2   28   Local-gov        336951     Assoc-acdm             12   \n",
       "3   44     Private        160323   Some-college             10   \n",
       "4   18           ?        103497   Some-college             10   \n",
       "\n",
       "        marital_status          occupation relationship    race      sex  \\\n",
       "0        Never-married   Machine-op-inspct    Own-child   Black     Male   \n",
       "1   Married-civ-spouse     Farming-fishing      Husband   White     Male   \n",
       "2   Married-civ-spouse     Protective-serv      Husband   White     Male   \n",
       "3   Married-civ-spouse   Machine-op-inspct      Husband   Black     Male   \n",
       "4        Never-married                   ?    Own-child   White   Female   \n",
       "\n",
       "   cap_gain  cap_loss  hrs_p_week         country  income  \n",
       "0         0         0          40   United-States   <=50K  \n",
       "1         0         0          50   United-States   <=50K  \n",
       "2         0         0          40   United-States    >50K  \n",
       "3      7688         0          40   United-States    >50K  \n",
       "4         0         0          30   United-States   <=50K  "
      ]
     },
     "execution_count": 14,
     "metadata": {},
     "output_type": "execute_result"
    }
   ],
   "source": [
    "test.head()"
   ]
  },
  {
   "cell_type": "markdown",
   "metadata": {},
   "source": [
    "Also, every categorical data entry has a space at the beginning(for both train and test data)"
   ]
  },
  {
   "cell_type": "markdown",
   "metadata": {},
   "source": [
    "## Removing space from data"
   ]
  },
  {
   "cell_type": "code",
   "execution_count": 15,
   "metadata": {},
   "outputs": [],
   "source": [
    "for col in train.columns:\n",
    "    if(train[col].dtype != \"int64\"):\n",
    "        train[col] = train[col].map(lambda x:x.lstrip(' '))\n",
    "        \n",
    "for col in test.columns:\n",
    "    if(test[col].dtype != \"int64\"):\n",
    "        test[col] = test[col].map(lambda x:x.lstrip(' '))"
   ]
  },
  {
   "cell_type": "markdown",
   "metadata": {},
   "source": [
    "## Removing missing Values\n",
    "We now noticed that the training dataset had missing values and we counted the no of missing values for every column. After finding out the columns that missing values, we removed those corresponding rows. It was approximately around 2000 and did not alter the dataset much."
   ]
  },
  {
   "cell_type": "markdown",
   "metadata": {},
   "source": [
    "### No of missing rows per column in training data"
   ]
  },
  {
   "cell_type": "code",
   "execution_count": 16,
   "metadata": {
    "scrolled": true
   },
   "outputs": [
    {
     "name": "stdout",
     "output_type": "stream",
     "text": [
      "Column:  workclass  Count of ?:  1836\n",
      "Column:  occupation  Count of ?:  1843\n",
      "Column:  country  Count of ?:  583\n"
     ]
    },
    {
     "name": "stderr",
     "output_type": "stream",
     "text": [
      "C:\\Users\\Karan\\Anaconda3\\lib\\site-packages\\pandas\\core\\ops.py:1649: FutureWarning: elementwise comparison failed; returning scalar instead, but in the future will perform elementwise comparison\n",
      "  result = method(y)\n"
     ]
    }
   ],
   "source": [
    "for column in train.columns:\n",
    "    su = (train[column] == '?').sum()\n",
    "    if su > 0:\n",
    "        print(\"Column: \", column, \" Count of ?: \",su)"
   ]
  },
  {
   "cell_type": "markdown",
   "metadata": {},
   "source": [
    "### Removing the rows with missing entries"
   ]
  },
  {
   "cell_type": "code",
   "execution_count": 17,
   "metadata": {},
   "outputs": [],
   "source": [
    "train = train[((train.country != '?') & (train.workclass != '?') & (train.occupation != '?'))]"
   ]
  },
  {
   "cell_type": "code",
   "execution_count": 18,
   "metadata": {},
   "outputs": [
    {
     "name": "stdout",
     "output_type": "stream",
     "text": [
      "Private             22286\n",
      "Self-emp-not-inc     2499\n",
      "Local-gov            2067\n",
      "State-gov            1279\n",
      "Self-emp-inc         1074\n",
      "Federal-gov           943\n",
      "Without-pay            14\n",
      "Never-worked            0\n",
      "?                       0\n",
      "Name: workclass, dtype: int64\n"
     ]
    }
   ],
   "source": [
    "print(train.workclass.value_counts())"
   ]
  },
  {
   "cell_type": "markdown",
   "metadata": {},
   "source": [
    "### No of missing rows per column in test data"
   ]
  },
  {
   "cell_type": "code",
   "execution_count": 19,
   "metadata": {},
   "outputs": [
    {
     "name": "stdout",
     "output_type": "stream",
     "text": [
      "Column:  workclass  Count of ?:  963\n",
      "Column:  occupation  Count of ?:  966\n",
      "Column:  country  Count of ?:  274\n"
     ]
    }
   ],
   "source": [
    "for column in test.columns:\n",
    "    su = (test[column] == '?').sum()\n",
    "    if su > 0:\n",
    "        print(\"Column: \",column, \" Count of ?: \",su)"
   ]
  },
  {
   "cell_type": "markdown",
   "metadata": {},
   "source": [
    "### Removing the rows with missing entries"
   ]
  },
  {
   "cell_type": "code",
   "execution_count": 20,
   "metadata": {},
   "outputs": [],
   "source": [
    "test = test[((test.country != '?') & (test.workclass != '?') & (test.occupation != '?'))]"
   ]
  },
  {
   "cell_type": "code",
   "execution_count": 21,
   "metadata": {},
   "outputs": [
    {
     "name": "stdout",
     "output_type": "stream",
     "text": [
      "Private             11021\n",
      "Self-emp-not-inc     1297\n",
      "Local-gov            1033\n",
      "State-gov             667\n",
      "Self-emp-inc          572\n",
      "Federal-gov           463\n",
      "Without-pay             7\n",
      "Never-worked            0\n",
      "?                       0\n",
      "Name: workclass, dtype: int64\n"
     ]
    }
   ],
   "source": [
    "print(test.workclass.value_counts())"
   ]
  },
  {
   "cell_type": "markdown",
   "metadata": {},
   "source": [
    "## Dropping the '?' category from workclass, occupation and country columns"
   ]
  },
  {
   "cell_type": "code",
   "execution_count": 22,
   "metadata": {},
   "outputs": [],
   "source": [
    "train.workclass = train.workclass.cat.remove_categories('?')\n",
    "train.occupation = train.occupation.cat.remove_categories('?')\n",
    "train.country = train.country.cat.remove_categories('?')\n",
    "\n",
    "test.workclass = test.workclass.cat.remove_categories('?')\n",
    "test.occupation = test.occupation.cat.remove_categories('?')\n",
    "test.country = test.country.cat.remove_categories('?')"
   ]
  },
  {
   "cell_type": "code",
   "execution_count": 23,
   "metadata": {},
   "outputs": [
    {
     "name": "stdout",
     "output_type": "stream",
     "text": [
      "Private             22286\n",
      "Self-emp-not-inc     2499\n",
      "Local-gov            2067\n",
      "State-gov            1279\n",
      "Self-emp-inc         1074\n",
      "Federal-gov           943\n",
      "Without-pay            14\n",
      "Never-worked            0\n",
      "Name: workclass, dtype: int64\n"
     ]
    }
   ],
   "source": [
    "print(train.workclass.value_counts())"
   ]
  },
  {
   "cell_type": "code",
   "execution_count": 24,
   "metadata": {},
   "outputs": [
    {
     "name": "stdout",
     "output_type": "stream",
     "text": [
      "Private             11021\n",
      "Self-emp-not-inc     1297\n",
      "Local-gov            1033\n",
      "State-gov             667\n",
      "Self-emp-inc          572\n",
      "Federal-gov           463\n",
      "Without-pay             7\n",
      "Never-worked            0\n",
      "Name: workclass, dtype: int64\n"
     ]
    }
   ],
   "source": [
    "print(test.workclass.value_counts())"
   ]
  },
  {
   "cell_type": "markdown",
   "metadata": {},
   "source": [
    "## Mapping education with education_num:\n",
    "\n",
    "We analyzed the dataset and found that the columns education and education number had a one-to-one mapping. Thus we have extracted this one-to-one mapping relationship into a dictionary called edu_map."
   ]
  },
  {
   "cell_type": "code",
   "execution_count": 25,
   "metadata": {},
   "outputs": [],
   "source": [
    "edu = train[['education','education_num']]\n",
    "edu_map = edu.drop_duplicates().set_index('education_num').to_dict()['education']"
   ]
  },
  {
   "cell_type": "markdown",
   "metadata": {},
   "source": [
    "## Mapping the income classes as -1 and 1"
   ]
  },
  {
   "cell_type": "code",
   "execution_count": 26,
   "metadata": {},
   "outputs": [],
   "source": [
    "train['income'] = train['income'].map({ \"<=50K\": -1, \">50K\": 1})\n",
    "test['income'] = test['income'].map({ \"<=50K\": -1, \">50K\": 1})"
   ]
  },
  {
   "cell_type": "markdown",
   "metadata": {},
   "source": [
    "# 3. Data Visualization"
   ]
  },
  {
   "cell_type": "markdown",
   "metadata": {},
   "source": [
    "Now we move onto visualizing each of the categorical columns and try to find how each is(or isn't) related to the income being <=50K or >50K "
   ]
  },
  {
   "cell_type": "code",
   "execution_count": 27,
   "metadata": {},
   "outputs": [],
   "source": [
    "class_0 = -1\n",
    "class_1 = 1"
   ]
  },
  {
   "cell_type": "markdown",
   "metadata": {},
   "source": [
    "## 3.1 Workclass vs Income"
   ]
  },
  {
   "cell_type": "code",
   "execution_count": 28,
   "metadata": {
    "scrolled": false
   },
   "outputs": [
    {
     "data": {
      "image/png": "[encoded data removed]",
      "text/plain": [
       "<Figure size 1152x720 with 1 Axes>"
      ]
     },
     "metadata": {
      "needs_background": "light"
     },
     "output_type": "display_data"
    }
   ],
   "source": [
    "# Counting rows wrt workclass and incomes\n",
    "work_income_c = train.groupby(['workclass','income']).count()['age']\n",
    "work_income_c = work_income_c.unstack('income').fillna(0)\n",
    "\n",
    "# Calculating the proportion of people in each income class for each workclass\n",
    "sum_in = (work_income_c[class_0] + work_income_c[class_1])\n",
    "\n",
    "temp = work_income_c[class_0] / sum_in\n",
    "work_income_c[class_1] = work_income_c[class_1] / sum_in\n",
    "work_income_c[class_0] = temp\n",
    "\n",
    "work_income_c = work_income_c.fillna(0).sort_values(by=[class_1])\n",
    "#print(work_income_c)\n",
    "\n",
    "fig, axes = plt.subplots()\n",
    "axes.set_ylabel('Proportion of people')\n",
    "work_income_c.plot.bar(ax = axes, figsize = (16,10), width = 0.4)\n",
    "axes.legend([\"<=50K\",\">50K\"])\n",
    "plt.show()"
   ]
  },
  {
   "cell_type": "markdown",
   "metadata": {},
   "source": [
    "Again, looking at the graph above, we see that people who have better 'sounding' jobs in general have a higher chance of earning more than others."
   ]
  },
  {
   "cell_type": "markdown",
   "metadata": {},
   "source": [
    "## 3.2 Education vs Income"
   ]
  },
  {
   "cell_type": "code",
   "execution_count": 29,
   "metadata": {},
   "outputs": [
    {
     "name": "stderr",
     "output_type": "stream",
     "text": [
      "C:\\Users\\Karan\\Anaconda3\\lib\\site-packages\\matplotlib\\figure.py:445: UserWarning: Matplotlib is currently using module://ipykernel.pylab.backend_inline, which is a non-GUI backend, so cannot show the figure.\n",
      "  % get_backend())\n"
     ]
    },
    {
     "data": {
      "image/png": "[encoded data removed]",
      "text/plain": [
       "<Figure size 1008x720 with 1 Axes>"
      ]
     },
     "metadata": {
      "needs_background": "light"
     },
     "output_type": "display_data"
    }
   ],
   "source": [
    "# Counting rows wrt education and incomes\n",
    "edu_income_c = train.groupby(['education','income']).count()['age']\n",
    "edu_income_c = edu_income_c.unstack('income').fillna(0)\n",
    "\n",
    "# Calculating the proportion of people in each income class for each education level\n",
    "sum_in = (edu_income_c[class_0] + edu_income_c[class_1])\n",
    "\n",
    "temp = edu_income_c[class_0] / sum_in\n",
    "edu_income_c[class_1] = edu_income_c[class_1] / sum_in\n",
    "edu_income_c[class_0] = temp\n",
    "\n",
    "edu_income_c = edu_income_c.fillna(0).sort_values(by=[class_1])\n",
    "#print(edu_income_c)\n",
    "\n",
    "fig, axes = plt.subplots()\n",
    "axes.set_ylabel('Proportion of people')\n",
    "edu_income_c.plot.bar(ax = axes, figsize = (14,10), width = 0.4)\n",
    "axes.legend([\"<=50K\",\">50K\"])\n",
    "fig.show()"
   ]
  },
  {
   "cell_type": "markdown",
   "metadata": {},
   "source": [
    "We see that, as expected, the proportion of people earning more than 50K increases as people tend to attain higher levels of education. But, not until completing a Masters degree do people earning more than 50K exceed people earning less than 50K."
   ]
  },
  {
   "cell_type": "markdown",
   "metadata": {},
   "source": [
    "## 3.3 Occupation vs Income"
   ]
  },
  {
   "cell_type": "code",
   "execution_count": 30,
   "metadata": {},
   "outputs": [
    {
     "name": "stderr",
     "output_type": "stream",
     "text": [
      "C:\\Users\\Karan\\Anaconda3\\lib\\site-packages\\matplotlib\\figure.py:445: UserWarning: Matplotlib is currently using module://ipykernel.pylab.backend_inline, which is a non-GUI backend, so cannot show the figure.\n",
      "  % get_backend())\n"
     ]
    },
    {
     "data": {
      "image/png": "[encoded data removed]",
      "text/plain": [
       "<Figure size 432x288 with 1 Axes>"
      ]
     },
     "metadata": {
      "needs_background": "light"
     },
     "output_type": "display_data"
    }
   ],
   "source": [
    "# Counting rows wrt gender and incomes\n",
    "occ_income_c = train.groupby(['occupation','income']).count()['age']\n",
    "occ_income_c = occ_income_c.unstack('income').fillna(0)\n",
    "\n",
    "# Calculating the proportion of people in each income class for each education level\n",
    "sum_in = (occ_income_c[class_0] + occ_income_c[class_1])\n",
    "\n",
    "temp = occ_income_c[class_0] / sum_in\n",
    "occ_income_c[class_1] = occ_income_c[class_1] / sum_in\n",
    "occ_income_c[class_0] = temp\n",
    "\n",
    "occ_income_c = occ_income_c.fillna(0).sort_values(by=[class_1])\n",
    "#print(edu_income_c)\n",
    "\n",
    "fig, axes = plt.subplots()\n",
    "axes.set_ylabel('Proportion of people')\n",
    "occ_income_c.plot.bar(ax = axes, width = 0.4)\n",
    "axes.legend([\"<=50K\",\">50K\"])\n",
    "fig.show()"
   ]
  },
  {
   "cell_type": "markdown",
   "metadata": {},
   "source": [
    "## 3.4 Gender vs Income"
   ]
  },
  {
   "cell_type": "code",
   "execution_count": 31,
   "metadata": {},
   "outputs": [
    {
     "name": "stderr",
     "output_type": "stream",
     "text": [
      "C:\\Users\\Karan\\Anaconda3\\lib\\site-packages\\matplotlib\\figure.py:445: UserWarning: Matplotlib is currently using module://ipykernel.pylab.backend_inline, which is a non-GUI backend, so cannot show the figure.\n",
      "  % get_backend())\n"
     ]
    },
    {
     "data": {
      "image/png": "[encoded data removed]",
      "text/plain": [
       "<Figure size 432x288 with 1 Axes>"
      ]
     },
     "metadata": {
      "needs_background": "light"
     },
     "output_type": "display_data"
    }
   ],
   "source": [
    "# Counting rows wrt gender and incomes\n",
    "gender_income_c = train.groupby(['sex','income']).count()['age']\n",
    "gender_income_c = gender_income_c.unstack('income').fillna(0)\n",
    "\n",
    "# Calculating the proportion of people in each income class for each education level\n",
    "sum_in = (gender_income_c[class_0] + gender_income_c[class_1])\n",
    "\n",
    "temp = gender_income_c[class_0] / sum_in\n",
    "gender_income_c[class_1] = gender_income_c[class_1] / sum_in\n",
    "gender_income_c[class_0] = temp\n",
    "\n",
    "gender_income_c = gender_income_c.fillna(0).sort_values(by=[class_1])\n",
    "#print(edu_income_c)\n",
    "\n",
    "fig, axes = plt.subplots()\n",
    "axes.set_ylabel('Proportion of people')\n",
    "gender_income_c.plot.bar(ax = axes, width = 0.4)\n",
    "axes.legend([\"<=50K\",\">50K\"])\n",
    "fig.show()"
   ]
  },
  {
   "cell_type": "markdown",
   "metadata": {},
   "source": [
    "It can be seen that proportion of men earning more than 50K is almost twice as women earning 50K income"
   ]
  },
  {
   "cell_type": "markdown",
   "metadata": {},
   "source": [
    "## 3.5 Race vs Income"
   ]
  },
  {
   "cell_type": "code",
   "execution_count": 32,
   "metadata": {},
   "outputs": [
    {
     "name": "stderr",
     "output_type": "stream",
     "text": [
      "C:\\Users\\Karan\\Anaconda3\\lib\\site-packages\\matplotlib\\figure.py:445: UserWarning: Matplotlib is currently using module://ipykernel.pylab.backend_inline, which is a non-GUI backend, so cannot show the figure.\n",
      "  % get_backend())\n"
     ]
    },
    {
     "data": {
      "image/png": "[encoded data removed]",
      "text/plain": [
       "<Figure size 432x288 with 1 Axes>"
      ]
     },
     "metadata": {
      "needs_background": "light"
     },
     "output_type": "display_data"
    }
   ],
   "source": [
    "# Counting rows wrt race and incomes\n",
    "race_income_c = train.groupby(['race','income']).count()['age']\n",
    "race_income_c = race_income_c.unstack('income').fillna(0)\n",
    "\n",
    "# Calculating the proportion of people in each income class for each race\n",
    "sum_in = (race_income_c[class_0] + race_income_c[class_1])\n",
    "\n",
    "temp = race_income_c[class_0] / sum_in\n",
    "race_income_c[class_1] = race_income_c[class_1] / sum_in\n",
    "race_income_c[class_0] = temp\n",
    "\n",
    "race_income_c = race_income_c.fillna(0).sort_values(by=[class_1])\n",
    "\n",
    "fig, axes = plt.subplots()\n",
    "axes.set_ylabel('Proportion of people')\n",
    "race_income_c.plot.bar(ax = axes, width = 0.4)\n",
    "axes.legend([\"<=50K\",\">50K\"])\n",
    "fig.show()"
   ]
  },
  {
   "cell_type": "markdown",
   "metadata": {},
   "source": [
    "This feature is not a great representative of generally how much a person is likely to earn. "
   ]
  },
  {
   "cell_type": "markdown",
   "metadata": {},
   "source": [
    "# 4. Model Development\n"
   ]
  },
  {
   "cell_type": "markdown",
   "metadata": {},
   "source": [
    "## 4.1 Data preparation"
   ]
  },
  {
   "cell_type": "markdown",
   "metadata": {},
   "source": [
    "### Feature cleaning"
   ]
  },
  {
   "cell_type": "markdown",
   "metadata": {},
   "source": [
    "As the education and the education_num is just a one to one mapping, we remove the education_num column from both the training set and the testing set. We do this as the model can be trained wrong thinking there is another feature, but these two features are completely correlated to each other."
   ]
  },
  {
   "cell_type": "code",
   "execution_count": 33,
   "metadata": {},
   "outputs": [],
   "source": [
    "train.drop(columns=\"education_num\", inplace=True)\n",
    "test.drop(columns=\"education_num\", inplace=True)"
   ]
  },
  {
   "cell_type": "markdown",
   "metadata": {},
   "source": [
    "We also remove the class variable from the train and the test data into separate arrays to be used in each models"
   ]
  },
  {
   "cell_type": "code",
   "execution_count": 34,
   "metadata": {},
   "outputs": [],
   "source": [
    "train_results = np.copy(train['income'].values)\n",
    "train.drop(columns=\"income\",inplace=True)\n",
    "\n",
    "test_results = np.copy(test['income'].values)\n",
    "test.drop(columns=\"income\",inplace=True)"
   ]
  },
  {
   "cell_type": "markdown",
   "metadata": {},
   "source": [
    "### One-hot encoding"
   ]
  },
  {
   "cell_type": "markdown",
   "metadata": {},
   "source": [
    "This is used to convert the categorical columns into binary features. This does increase the dimensionality of the data, but the performance of the different models improves if we use this form of the data."
   ]
  },
  {
   "cell_type": "code",
   "execution_count": 35,
   "metadata": {},
   "outputs": [],
   "source": [
    "train_ohe = pd.get_dummies(train)\n",
    "test_ohe = pd.get_dummies(test)\n",
    "#print(test_ohe.shape)\n",
    "test_ohe['country_Holand-Netherlands'] = np.zeros(test_ohe.shape[0])\n",
    "#print(test_ohe)\n",
    "\n",
    "#test_ohe['dd'] = test_ohe['age']\n",
    "#print(set(train_ohe.columns) - set(test_ohe.columns))\n",
    "#print(len(test_ohe.columns))\n",
    "#print(np.where(train_ohe.columns != test_ohe.columns))\n",
    "#print(train_ohe.shape)\n",
    "#print(test_ohe.shape)"
   ]
  },
  {
   "cell_type": "markdown",
   "metadata": {},
   "source": [
    "### Normalization of train and test data"
   ]
  },
  {
   "cell_type": "code",
   "execution_count": 36,
   "metadata": {},
   "outputs": [
    {
     "name": "stderr",
     "output_type": "stream",
     "text": [
      "C:\\Users\\Karan\\Anaconda3\\lib\\site-packages\\sklearn\\preprocessing\\data.py:645: DataConversionWarning: Data with input dtype uint8, int64 were all converted to float64 by StandardScaler.\n",
      "  return self.partial_fit(X, y)\n",
      "C:\\Users\\Karan\\Anaconda3\\lib\\site-packages\\ipykernel_launcher.py:3: DataConversionWarning: Data with input dtype uint8, int64 were all converted to float64 by StandardScaler.\n",
      "  This is separate from the ipykernel package so we can avoid doing imports until\n",
      "C:\\Users\\Karan\\Anaconda3\\lib\\site-packages\\ipykernel_launcher.py:4: DataConversionWarning: Data with input dtype uint8, int64, float64 were all converted to float64 by StandardScaler.\n",
      "  after removing the cwd from sys.path.\n"
     ]
    }
   ],
   "source": [
    "data_scaler_obj = StandardScaler()\n",
    "data_scaler_obj.fit(train_ohe)\n",
    "train_ohe = data_scaler_obj.transform(train_ohe)\n",
    "test_ohe = data_scaler_obj.transform(test_ohe)"
   ]
  },
  {
   "cell_type": "markdown",
   "metadata": {},
   "source": [
    "### Model evaluator function"
   ]
  },
  {
   "cell_type": "code",
   "execution_count": 37,
   "metadata": {},
   "outputs": [],
   "source": [
    "def conf_calc(observed, predicted):\n",
    "    #conf = pd.crosstab(observed, predicted, rownames=['Observed'], colnames=['Predicted'])\n",
    "    true_positive = true_negative = false_positive = false_negative = 0\n",
    "    for i in range(len(observed)):\n",
    "        if observed[i] == -1 and predicted[i] == -1:\n",
    "            true_negative += 1\n",
    "        elif observed[i] == 1 and predicted[i] == 1:\n",
    "            true_positive += 1\n",
    "        elif observed[i] == 1 and predicted[i] == -1:\n",
    "            false_negative += 1\n",
    "        elif observed[i] == -1 and predicted[i] == 1:\n",
    "            false_positive += 1\n",
    "    \n",
    "    accuracy = (true_positive + true_negative)/(true_positive + true_negative + false_positive + false_negative)\n",
    "    try:\n",
    "        precision = (true_positive)/(true_positive + false_positive)\n",
    "    except ZeroDivisionError:\n",
    "        precision = 0\n",
    "    specificity = (true_positive)/(true_positive + false_negative)\n",
    "    sensitivity = (true_negative)/(true_negative + false_positive)\n",
    "    return [accuracy,precision, specificity,sensitivity]"
   ]
  },
  {
   "cell_type": "markdown",
   "metadata": {},
   "source": [
    "## 4.2 Models"
   ]
  },
  {
   "cell_type": "markdown",
   "metadata": {},
   "source": [
    "### 4.2.1 Decision Tree"
   ]
  },
  {
   "cell_type": "markdown",
   "metadata": {},
   "source": [
    "#### k-cross Validation on decision tree to find the best hyperparameters"
   ]
  },
  {
   "cell_type": "markdown",
   "metadata": {},
   "source": [
    "In order to avoid overfitting the model on the training data, we use k-cross validation and try to find the values of the hyperparameters from the corresponding plots that may not necessarily give the best performance on the validation data, if it is overfitting on the training data. We only consider the max_depth, min_samples_split and the min_samples_leaf hyperparameters in this decision tree.\n",
    "So, over a range of values of max_depth, min_samples_split and min_samples_leaf, we check the auc for the training and k-cross validation data and looking at the plots, select the hyperparameters."
   ]
  },
  {
   "cell_type": "code",
   "execution_count": 38,
   "metadata": {
    "scrolled": false
   },
   "outputs": [
    {
     "data": {
      "image/png": "[encoded data removed]",
      "text/plain": [
       "<Figure size 2160x2160 with 10 Axes>"
      ]
     },
     "metadata": {
      "needs_background": "light"
     },
     "output_type": "display_data"
    }
   ],
   "source": [
    "kf = KFold(n_splits = 5, shuffle=False)\n",
    "fig, axes = plt.subplots(5,2, figsize = (30,30))\n",
    "\n",
    "d_range = range(7,16,2)\n",
    "s_range = range(2,11,2)\n",
    "l_range = range(1,11,2)\n",
    "\n",
    "for k,d in enumerate(d_range):\n",
    "    tr_auc = np.zeros((len(s_range),len(l_range)))\n",
    "    va_auc = np.zeros((len(s_range),len(l_range)))\n",
    "    for i,s in enumerate(s_range):\n",
    "        for j,l in enumerate(l_range):\n",
    "            tr_mean = 0\n",
    "            va_mean = 0\n",
    "            for tr_index, va_index in kf.split(train_ohe):\n",
    "                k_tr = train_ohe[tr_index]\n",
    "                k_va = train_ohe[va_index]\n",
    "                k_tr_results = train_results[tr_index]\n",
    "                k_va_results = train_results[va_index]\n",
    "                \n",
    "                dtree_c = tree.DecisionTreeClassifier(criterion = 'entropy', splitter='best', max_depth=d, min_samples_split = s, min_samples_leaf = l)\n",
    "                dtree_c = dtree_c.fit(k_tr, k_tr_results)\n",
    "                \n",
    "                tr_dtree_pred = dtree_c.predict(k_tr)\n",
    "                tr_false_positive_rate, tr_recall, tr_thresholds = roc_curve(k_tr_results,tr_dtree_pred)\n",
    "                tr_roc_auc = auc(tr_false_positive_rate, tr_recall)\n",
    "                #train_out = conf_calc(k_tr_results, dtree_train_pred)\n",
    "                tr_mean += tr_roc_auc\n",
    "                \n",
    "                va_dtree_pred = dtree_c.predict(k_va)\n",
    "                va_false_positive_rate, va_recall, va_thresholds = roc_curve(k_va_results,va_dtree_pred)\n",
    "                va_roc_auc = auc(va_false_positive_rate, va_recall)\n",
    "                #train_out = conf_calc(k_tr_results, dtree_train_pred)\n",
    "                va_mean += va_roc_auc\n",
    "                \n",
    "            tr_auc[i][j] = tr_mean / 5\n",
    "            va_auc[i][j] = va_mean / 5\n",
    "            '''\n",
    "            if (max_mean < c_mean):\n",
    "                f_l[0] = d\n",
    "                f_l[1] = s\n",
    "                f_l[2] = l\n",
    "                max_mean = c_mean\n",
    "            '''\n",
    "    axes[k][0].set_xlabel('min_split')\n",
    "    axes[k][0].set_ylabel('min_leaf')\n",
    "    axes[k][0].set_title(\"MaxDepth = \" + str(d))\n",
    "    cax = axes[k][0].matshow(tr_auc, interpolation='nearest')\n",
    "    axes[k][0].set_xticklabels([''] + list(s_range))\n",
    "    axes[k][0].set_yticklabels([''] + list(l_range))\n",
    "    \n",
    "    axes[k][1].set_xlabel('min_split')\n",
    "    axes[k][1].set_ylabel('min_leaf')\n",
    "    axes[k][1].set_title(\"MaxDepth = \" + str(d))\n",
    "    cax = axes[k][1].matshow(va_auc, interpolation='nearest')\n",
    "    axes[k][1].set_xticklabels([''] + list(s_range))\n",
    "    axes[k][1].set_yticklabels([''] + list(l_range))\n",
    "#for li in f_l:\n",
    "#    print(li)"
   ]
  },
  {
   "cell_type": "markdown",
   "metadata": {},
   "source": [
    "As seen from the plots above, we find two candidate values(where validation auc is great(yellow), given the training auc is not yellow as well) of our ideal hyperparameters\n",
    "1. max_depth = 9, min_samples_split = 2, min_samples_leaf = 7\n",
    "2. max_depth = 9, min_samples_split = 4, min_samples_leaf = 9\n",
    "3. max_depth = 11, min_samples_split = 2, min_samples_leaf = 9\n",
    "\n",
    "Lets test the performance of the decision tree on the above three hyperparameters"
   ]
  },
  {
   "cell_type": "code",
   "execution_count": 39,
   "metadata": {},
   "outputs": [
    {
     "name": "stdout",
     "output_type": "stream",
     "text": [
      "Max accuracy when \n",
      "Max Depth : 9\n",
      "Min Split : 2 \n",
      "Min Leaf : 7\n"
     ]
    }
   ],
   "source": [
    "MD = [9,9,11]\n",
    "MSS = [2,4,2]\n",
    "MSL = [7,9,9]\n",
    "acc = [None] * len(MD)\n",
    "pre = [None] * len(MD)\n",
    "spe = [None] * len(MD)\n",
    "sen = [None] * len(MD)\n",
    "max_acc = -1\n",
    "max_index = -1\n",
    "for i in range(0,len(MD),1):\n",
    "    dtree_c = tree.DecisionTreeClassifier(criterion = 'entropy', splitter='best', max_depth = MD[i], min_samples_split = MSS[i], min_samples_leaf = MSL[i])\n",
    "    dtree_c = dtree_c.fit(train_ohe, train_results)\n",
    "    te_dtree_pred = dtree_c.predict(test_ohe)\n",
    "    acc[i],pre[i],spe[i],sen[i] = conf_calc(test_results, te_dtree_pred)\n",
    "    if(max_acc < acc[i]):\n",
    "        max_acc = acc[i]\n",
    "        max_index = i\n",
    "print(\"Max accuracy when \\nMax Depth : \" + str(MD[max_index]) + \"\\nMin Split : \" + str(MSS[max_index]) + \" \\nMin Leaf : \" + str(MSL[max_index]))"
   ]
  },
  {
   "cell_type": "markdown",
   "metadata": {},
   "source": [
    "At the above hyperparameters, let us print the accuracy, precision, specificity and sensitivity for our predictions"
   ]
  },
  {
   "cell_type": "code",
   "execution_count": 40,
   "metadata": {},
   "outputs": [
    {
     "name": "stdout",
     "output_type": "stream",
     "text": [
      "         accuracy  precision  sensitivity  specificity\n",
      "Entropy  0.853785   0.766169     0.942077     0.582703\n"
     ]
    }
   ],
   "source": [
    "eval_dict = {'accuracy': acc[max_index], 'precision' : pre[max_index], 'specificity' : spe[max_index], 'sensitivity' : sen[max_index]}\n",
    "eval_df = pd.DataFrame([eval_dict], index = ['Entropy'])\n",
    "print(eval_df)"
   ]
  },
  {
   "cell_type": "markdown",
   "metadata": {},
   "source": [
    "### 4.2.2 kNN classifier"
   ]
  }
 ],
 "metadata": {
  "kernelspec": {
   "display_name": "Python 3",
   "language": "python",
   "name": "python3"
  },
  "language_info": {
   "codemirror_mode": {
    "name": "ipython",
    "version": 3
   },
   "file_extension": ".py",
   "mimetype": "text/x-python",
   "name": "python",
   "nbconvert_exporter": "python",
   "pygments_lexer": "ipython3",
   "version": "3.7.3"
  }
 },
 "nbformat": 4,
 "nbformat_minor": 2
}
